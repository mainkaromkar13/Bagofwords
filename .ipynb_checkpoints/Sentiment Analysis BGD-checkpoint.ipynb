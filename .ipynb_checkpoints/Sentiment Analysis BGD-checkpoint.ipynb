{
 "cells": [
  {
   "cell_type": "code",
   "execution_count": 2,
   "metadata": {},
   "outputs": [],
   "source": [
    "import pandas as pd\n",
    "import numpy as np\n",
    "from string import digits\n",
    "import re\n",
    "import nltk\n",
    "from nltk.stem import WordNetLemmatizer\n",
    "from nltk.tokenize import word_tokenize\n",
    "from string import digits\n",
    "import re\n",
    "from sklearn.feature_extraction.text import CountVectorizer\n",
    "from sklearn import metrics\n",
    "from sklearn.naive_bayes import MultinomialNB\n",
    "from sklearn.naive_bayes import ComplementNB\n",
    "from sklearn.metrics import  confusion_matrix\n",
    "from sklearn.utils import shuffle\n",
    "# import spacy"
   ]
  },
  {
   "cell_type": "code",
   "execution_count": 3,
   "metadata": {},
   "outputs": [],
   "source": [
    "# Read the data from CSV files\n",
    "data = pd.read_csv('car_reviews.csv', sep=',', error_bad_lines=False)\n",
    "\n",
    "#shuffel the data to get random text fields for analysis\n",
    "data=shuffle(data)"
   ]
  },
  {
   "cell_type": "code",
   "execution_count": 4,
   "metadata": {},
   "outputs": [],
   "source": [
    "#Split the dataset into 80% for training and 20% for testing\n",
    "split_index=int(80*len(data)/100)\n",
    "#Variable data_training stores the 80% of the dataset for training\n",
    "data_training = data.iloc[:split_index]\n",
    "#Variable data_testing stores the 20% of the dataset for testing\n",
    "data_testing = data.iloc[split_index:]\n",
    "\n",
    "from nltk.stem import PorterStemmer \n",
    "from nltk.tokenize import word_tokenize \n",
    "\n",
    "#Import PotterStemmer to perform stemming on the given word and extracting the root word using stemming\n",
    "stemmer = PorterStemmer() \n",
    "\n",
    "#Function that impletements stemming on the sentence and return the stemmed sentence back\n",
    "def StemTokens(tokens):\n",
    "    s=\" \"\n",
    "    for token in tokens:\n",
    "        s=s+\" \"+stemmer.stem(token)\n",
    "    return s\n",
    "\n",
    "#statement_training will store the Review after performing stemming,removal of punctuations and digits of training dataset\n",
    "statement_training = []\n",
    "for i in data_training['Review'].to_list():\n",
    "    #Convert text to lower case\n",
    "    temp = i.lower()\n",
    "    #remove punctuations\n",
    "    temp = re.sub(r'[^\\w\\s]','',temp)\n",
    "    #remove digits\n",
    "    temp = temp.translate(str.maketrans('', '', digits))\n",
    "    #Extract the root word using the NLTK library for stemming\n",
    "    temp= StemTokens(nltk.word_tokenize(temp))\n",
    "    #Add the final stemmed sentence to the list\n",
    "    statement_training.append(temp)\n",
    "\n",
    "#score_training will store the Sentiment in form of -1(Negative) and 1(Positive) for training dataset\n",
    "#The Review are mapped with Sentiment using index's\n",
    "score_training = []\n",
    "for i in data_training['Sentiment'].to_list():\n",
    "    if i == 'Pos':\n",
    "        score_training.append(1)\n",
    "    else:\n",
    "        score_training.append(-1)\n",
    "\n",
    "#statement_testing will store the Review after performing stemming,removal of punctuations and digits of test dataset\n",
    "statement_testing = []\n",
    "for i in data_testing['Review'].to_list():\n",
    "    #Convert text to lower case\n",
    "    temp = i.lower()\n",
    "    #remove punctuations\n",
    "    temp = re.sub(r'[^\\w\\s]','',temp)\n",
    "    #remove digits\n",
    "    temp = temp.translate(str.maketrans('', '', digits))\n",
    "    #Extract the root word using the NLTK library for stemming\n",
    "    temp= StemTokens(nltk.word_tokenize(temp))\n",
    "    #Add the final stemmed sentence to the list\n",
    "    statement_testing.append(temp)\n",
    "\n",
    "#score_testing will store the Sentiment in form of -1(Negative) and 1(Positive) for testing dataset\n",
    "#The Review are mapped with Sentiment using index's\n",
    "score_testing = []\n",
    "for i in data_testing['Sentiment'].to_list():\n",
    "    if i == 'Pos':\n",
    "        score_testing.append(1)\n",
    "    else:\n",
    "        score_testing.append(-1)\n",
    "        "
   ]
  },
  {
   "cell_type": "code",
   "execution_count": 5,
   "metadata": {},
   "outputs": [
    {
     "name": "stdout",
     "output_type": "stream",
     "text": [
      "Actual Review :  I picked up a 1997 Taurus SHO after looking over several   sporty   four door sedans  The car is very refined for a Ford  Almost everything in the car is improved or updated over the V6 Taurii  It has SHO specific engine  brakes  transmission  steering  upholstery  the list goes on Ford did not market the SHO very well  They are hard to sell  For this reason  new SHOs can be found at the dealer for thousands under MSRP Positives The car is a performer  It is not a stoplight racer so much as it is an executive cruiser  It has the brakes and suspension to keep up with the motor  but not at the expense of a comfortable ride It has been 100  reliable since the day I bought it  It is the most trustworthy car ive ever owned Good ergonomics  One could drive this car for hours on end with little driving fatigue Negatives The styling is definitely love it or hate it  The V8 is thirsty  Frisky drivers can expect no better than 15 mpg in the city The oval shaped stereo   climate controls make it nearly impossible to upgrade the sound system \n",
      "------------------------------------------------------------------------------------------------------\n",
      "After Stemming and removal of punctuations and digits :   i pick up a tauru sho after look over sever sporti four door sedan the car is veri refin for a ford almost everyth in the car is improv or updat over the v taurii it ha sho specif engin brake transmiss steer upholsteri the list goe on ford did not market the sho veri well they are hard to sell for thi reason new sho can be found at the dealer for thousand under msrp posit the car is a perform it is not a stoplight racer so much as it is an execut cruiser it ha the brake and suspens to keep up with the motor but not at the expens of a comfort ride it ha been reliabl sinc the day i bought it it is the most trustworthi car ive ever own good ergonom one could drive thi car for hour on end with littl drive fatigu neg the style is definit love it or hate it the v is thirsti friski driver can expect no better than mpg in the citi the oval shape stereo climat control make it nearli imposs to upgrad the sound system\n"
     ]
    }
   ],
   "source": [
    "#Assignment criteria 1 and 2 results: root word are extracted, punctuations and digits are removed \n",
    "#example: Problems->problem\n",
    "\n",
    "print(\"Actual Review : \"+ data_training['Review'].to_list()[0])\n",
    "print(\"------------------------------------------------------------------------------------------------------\")\n",
    "print(\"After Stemming and removal of punctuations and digits : \"+statement_training[0])"
   ]
  },
  {
   "cell_type": "code",
   "execution_count": 6,
   "metadata": {},
   "outputs": [],
   "source": [
    "#Creating a CountVectorizer variable from SKLearn library and setting the stop words to english language \n",
    "vectorizer = CountVectorizer(stop_words='english')\n",
    "\n",
    "#Creating a vector form representation of the training dataset\n",
    "train_features = vectorizer.fit_transform([r for r in statement_training])\n",
    "\n",
    "#Creating a vector form representation of the testing dataset\n",
    "test_features = vectorizer.transform([r for r in statement_testing])"
   ]
  },
  {
   "cell_type": "code",
   "execution_count": 7,
   "metadata": {},
   "outputs": [
    {
     "name": "stdout",
     "output_type": "stream",
     "text": [
      "  (0, 5578)\t1\n",
      "  (0, 7646)\t1\n",
      "  (0, 6759)\t4\n",
      "  (0, 4444)\t1\n",
      "  (0, 6694)\t1\n",
      "  (0, 7163)\t1\n",
      "  (0, 2230)\t1\n",
      "  (0, 6626)\t1\n",
      "  (0, 1080)\t5\n",
      "  (0, 8398)\t2\n",
      "  (0, 6164)\t1\n",
      "  (0, 2962)\t2\n",
      "  (0, 2601)\t1\n",
      "  (0, 3795)\t1\n",
      "  (0, 8298)\t1\n",
      "  (0, 7644)\t1\n",
      "  (0, 3398)\t3\n",
      "  (0, 7109)\t1\n",
      "  (0, 2500)\t1\n",
      "  (0, 860)\t2\n",
      "  (0, 7969)\t1\n",
      "  (0, 7283)\t1\n",
      "  (0, 8302)\t1\n",
      "  (0, 4398)\t1\n",
      "  (0, 3250)\t1\n",
      "  :\t:\n",
      "  (2, 5231)\t1\n",
      "  (2, 8760)\t1\n",
      "  (2, 4904)\t1\n",
      "  (2, 3511)\t1\n",
      "  (2, 1646)\t1\n",
      "  (2, 7766)\t2\n",
      "  (2, 5008)\t1\n",
      "  (2, 4169)\t1\n",
      "  (2, 8712)\t1\n",
      "  (2, 1944)\t1\n",
      "  (2, 257)\t2\n",
      "  (2, 1002)\t2\n",
      "  (2, 3320)\t1\n",
      "  (2, 7217)\t1\n",
      "  (2, 6609)\t1\n",
      "  (2, 8019)\t2\n",
      "  (2, 4191)\t1\n",
      "  (2, 4567)\t2\n",
      "  (2, 4296)\t1\n",
      "  (2, 2657)\t1\n",
      "  (2, 6874)\t1\n",
      "  (2, 131)\t1\n",
      "  (2, 4415)\t1\n",
      "  (2, 6768)\t1\n",
      "  (2, 2111)\t1\n"
     ]
    }
   ],
   "source": [
    "#Assignment criteria 3: Displaying the vectorize form of the Review Column of the dataset\n",
    "#Displaying top 3 vectorized value of the training dataset\n",
    "print(train_features[:3])"
   ]
  },
  {
   "cell_type": "code",
   "execution_count": 8,
   "metadata": {},
   "outputs": [
    {
     "name": "stdout",
     "output_type": "stream",
     "text": [
      "Accuracy: 0.7870036101083032\n"
     ]
    }
   ],
   "source": [
    "#Creating a MultinomialNB variable for naive bayes from SKLearn library\n",
    "#Assignment citeria 4: Displaying the use of multinomial naive bayes model for classification\n",
    "nb = MultinomialNB()\n",
    "\n",
    "#Training the model using the training dataset \n",
    "nb.fit(train_features, [r for r in score_training])\n",
    "\n",
    "# Now we can use the model to predict classifications for testing dataset\n",
    "predictions = nb.predict(test_features)\n",
    "\n",
    "#Print the accuracy of the model\n",
    "print(\"Accuracy:\",metrics.accuracy_score(score_testing, predictions))"
   ]
  },
  {
   "cell_type": "code",
   "execution_count": 16,
   "metadata": {},
   "outputs": [
    {
     "data": {
      "text/plain": [
       "<AxesSubplot:>"
      ]
     },
     "execution_count": 16,
     "metadata": {},
     "output_type": "execute_result"
    },
    {
     "data": {
      "image/png": "[encoded data removed]",
      "text/plain": [
       "<Figure size 432x288 with 2 Axes>"
      ]
     },
     "metadata": {
      "needs_background": "light"
     },
     "output_type": "display_data"
    }
   ],
   "source": [
    "#Assignment criteria 6: Display the Confusion matrix\n",
    "#Creating a confusion matrix using the sklearn library\n",
    "confusionMatrix = confusion_matrix(score_testing, predictions)\n",
    "import seaborn as sns\n",
    "group_names = ['True Neg','False Pos','False Neg','True Pos']\n",
    "group_counts = [\"{0:0.0f}\".format(value) for value in\n",
    "                confusionMatrix.flatten()]\n",
    "group_percentages = [\"{0:.2%}\".format(value) for value in\n",
    "                     confusionMatrix.flatten()/np.sum(confusionMatrix)]\n",
    "labels = [f\"{v1}\\n{v2}\\n{v3}\" for v1, v2, v3 in\n",
    "          zip(group_names,group_counts,group_percentages)]\n",
    "labels = np.asarray(labels).reshape(2,2)\n",
    "sns.heatmap(confusionMatrix, annot=labels,fmt='', cmap='Blues')"
   ]
  },
  {
   "cell_type": "markdown",
   "metadata": {},
   "source": [
    "# TASK 2"
   ]
  },
  {
   "cell_type": "markdown",
   "metadata": {},
   "source": [
    "The approach used in task 1 for finding the root of a given word is stemming, more specifically I am using Potter Stemmer. I have used a unigram approach in task 1 i.e it considers only one word from a given text which does not provide a great result and I have used Multinomial naive bayes model for classification which has some severe assumptions and it is not that great to handle imbalanced dataset.\n",
    "\n",
    "The improvement on task 1 will be as follows:\n",
    "\n",
    "1) I am using lemmatization method for finding the root word, since lemmatization takes into consideration the context of the word to determine which is the intended meaning the user is looking for and hence speed ups the process and decreases the noise.\n",
    "\n",
    "2) Insted of using unigram, I am using Bigram as the probability can be more accurate as a set of words in form of a context than an individual word approach.\n",
    "\n",
    "3) I am replacing Multinomial naive bayes model with Complement naive bayes which is more suited for imbalanced dataset and it does not work on severe assumptions.\n",
    "\n",
    "References:\n",
    "\n",
    "1) http://web.stanford.edu/class/cs276/handouts/rennie.icml03.pdf\n",
    "\n",
    "2) https://scikit-learn.org/stable/modules/classes.html#module-sklearn.naive_bayes"
   ]
  },
  {
   "cell_type": "code",
   "execution_count": 10,
   "metadata": {},
   "outputs": [],
   "source": [
    "#Assignment Criteria 5 to split the dataset into 80% and 20% for training and testing\n",
    "#Split the dataset into 80% for training and 20% for testing\n",
    "split_index=int(80*len(data)/100)\n",
    "#Variable data_training stores the 80% of the dataset for training\n",
    "data_training = data.iloc[:split_index]\n",
    "#Variable data_testing stores the 20% of the dataset for testing\n",
    "data_testing = data.iloc[split_index:]\n",
    "\n",
    "#Import WordNetLemmatizer to perform lemmatization on the given word and extracting the root word using lemmatization\n",
    "lemmer = nltk.stem.WordNetLemmatizer()\n",
    "\n",
    "#Function that impletements lemmatization on the sentence and return the lemmatized sentence back\n",
    "def LemTokens(tokens):\n",
    "    s=\" \"\n",
    "    for token in tokens:\n",
    "        s=s+\" \"+lemmer.lemmatize(token)\n",
    "    return s\n",
    "\n",
    "#statement_training will store the Review after performing lemmatization,removal of punctuations and digits of training dataset\n",
    "statement_training = []\n",
    "for i in data_training['Review'].to_list():\n",
    "    #Convert text to lower case\n",
    "    temp = i.lower()\n",
    "    #remove punctuations\n",
    "    temp = re.sub(r'[^\\w\\s]','',temp)\n",
    "    #remove digits\n",
    "    temp = temp.translate(str.maketrans('', '', digits))\n",
    "    #Extract the root word using the NLTK library for lemmatization\n",
    "    temp= LemTokens(nltk.word_tokenize(temp))\n",
    "    #Add the final lemmatized sentence to the list\n",
    "    statement_training.append(temp)\n",
    "\n",
    "#score_training will store the Sentiment in form of -1(Negative) and 1(Positive) for training dataset\n",
    "#The Review are mapped with Sentiment using index's\n",
    "score_training = []\n",
    "for i in data_training['Sentiment'].to_list():\n",
    "    if i == 'Pos':\n",
    "        score_training.append(1)\n",
    "    else:\n",
    "        score_training.append(-1)\n",
    "\n",
    "#statement_testing will store the Review after performing lemmatization,removal of punctuations and digits of test dataset\n",
    "statement_testing = []\n",
    "for i in data_testing['Review'].to_list():\n",
    "    #Convert text to lower case\n",
    "    temp = i.lower()\n",
    "    #remove punctuations\n",
    "    temp = re.sub(r'[^\\w\\s]','',temp)\n",
    "    #remove digits\n",
    "    temp = temp.translate(str.maketrans('', '', digits))\n",
    "    #Extract the root word using the NLTK library for lemmatization\n",
    "    temp= LemTokens(nltk.word_tokenize(temp))\n",
    "    #Add the final lemmatized sentence to the list\n",
    "    statement_testing.append(temp)\n",
    "\n",
    "#score_testing will store the Sentiment in form of -1(Negative) and 1(Positive) for testing dataset\n",
    "#The Review are mapped with Sentiment using index's\n",
    "score_testing = []\n",
    "for i in data_testing['Sentiment'].to_list():\n",
    "    if i == 'Pos':\n",
    "        score_testing.append(1)\n",
    "    else:\n",
    "        score_testing.append(-1)\n",
    "\n"
   ]
  },
  {
   "cell_type": "code",
   "execution_count": 11,
   "metadata": {},
   "outputs": [
    {
     "name": "stdout",
     "output_type": "stream",
     "text": [
      "Actual Review :  I picked up a 1997 Taurus SHO after looking over several   sporty   four door sedans  The car is very refined for a Ford  Almost everything in the car is improved or updated over the V6 Taurii  It has SHO specific engine  brakes  transmission  steering  upholstery  the list goes on Ford did not market the SHO very well  They are hard to sell  For this reason  new SHOs can be found at the dealer for thousands under MSRP Positives The car is a performer  It is not a stoplight racer so much as it is an executive cruiser  It has the brakes and suspension to keep up with the motor  but not at the expense of a comfortable ride It has been 100  reliable since the day I bought it  It is the most trustworthy car ive ever owned Good ergonomics  One could drive this car for hours on end with little driving fatigue Negatives The styling is definitely love it or hate it  The V8 is thirsty  Frisky drivers can expect no better than 15 mpg in the city The oval shaped stereo   climate controls make it nearly impossible to upgrade the sound system \n",
      "------------------------------------------------------------------------------------------------------\n",
      "After lemmatization and removal of punctiation and digits :   i picked up a taurus sho after looking over several sporty four door sedan the car is very refined for a ford almost everything in the car is improved or updated over the v taurii it ha sho specific engine brake transmission steering upholstery the list go on ford did not market the sho very well they are hard to sell for this reason new shos can be found at the dealer for thousand under msrp positive the car is a performer it is not a stoplight racer so much a it is an executive cruiser it ha the brake and suspension to keep up with the motor but not at the expense of a comfortable ride it ha been reliable since the day i bought it it is the most trustworthy car ive ever owned good ergonomics one could drive this car for hour on end with little driving fatigue negative the styling is definitely love it or hate it the v is thirsty frisky driver can expect no better than mpg in the city the oval shaped stereo climate control make it nearly impossible to upgrade the sound system\n"
     ]
    }
   ],
   "source": [
    "#Results: root word are extracted and punctiation and digits re removed \n",
    "\n",
    "print(\"Actual Review : \"+ data_training['Review'].to_list()[0])\n",
    "print(\"------------------------------------------------------------------------------------------------------\")\n",
    "print(\"After lemmatization and removal of punctiation and digits : \"+statement_training[0])"
   ]
  },
  {
   "cell_type": "code",
   "execution_count": 12,
   "metadata": {},
   "outputs": [],
   "source": [
    "#Creating a CountVectorizer variable from SKLearn library and setting the stop words to english language \n",
    "#UPDATE: Using a Bigram model instead of unigram\n",
    "vectorizer = CountVectorizer(stop_words='english', ngram_range=(2,2))\n",
    "\n",
    "#Creating a vector form representation of the training dataset\n",
    "train_features = vectorizer.fit_transform([r for r in statement_training])\n",
    "\n",
    "#Creating a vector form representation of the testing dataset\n",
    "test_features = vectorizer.transform([r for r in statement_testing])"
   ]
  },
  {
   "cell_type": "code",
   "execution_count": 13,
   "metadata": {},
   "outputs": [
    {
     "name": "stdout",
     "output_type": "stream",
     "text": [
      "  (0, 86841)\t1\n",
      "  (0, 118252)\t1\n",
      "  (0, 106844)\t1\n",
      "  (0, 69765)\t1\n",
      "  (0, 111918)\t1\n",
      "  (0, 31976)\t1\n",
      "  (0, 105107)\t1\n",
      "  (0, 15163)\t1\n",
      "  (0, 96905)\t1\n",
      "  (0, 44796)\t1\n",
      "  (0, 14690)\t1\n",
      "  (0, 58148)\t1\n",
      "  (0, 127394)\t1\n",
      "  (0, 118023)\t1\n",
      "  (0, 51639)\t1\n",
      "  (0, 106857)\t1\n",
      "  (0, 111152)\t1\n",
      "  (0, 35993)\t1\n",
      "  (0, 11232)\t1\n",
      "  (0, 123732)\t1\n",
      "  (0, 113549)\t1\n",
      "  (0, 127469)\t1\n",
      "  (0, 67380)\t1\n",
      "  (0, 44886)\t1\n",
      "  (0, 29322)\t1\n",
      "  :\t:\n",
      "  (2, 138320)\t1\n",
      "  (2, 97449)\t1\n",
      "  (2, 15257)\t1\n",
      "  (2, 104095)\t1\n",
      "  (2, 20416)\t1\n",
      "  (2, 68995)\t1\n",
      "  (2, 100914)\t1\n",
      "  (2, 124332)\t1\n",
      "  (2, 63103)\t1\n",
      "  (2, 122176)\t1\n",
      "  (2, 124251)\t1\n",
      "  (2, 14183)\t1\n",
      "  (2, 45103)\t1\n",
      "  (2, 64714)\t1\n",
      "  (2, 39136)\t1\n",
      "  (2, 69703)\t1\n",
      "  (2, 79668)\t1\n",
      "  (2, 108448)\t1\n",
      "  (2, 2198)\t1\n",
      "  (2, 15456)\t1\n",
      "  (2, 118162)\t1\n",
      "  (2, 69682)\t1\n",
      "  (2, 138239)\t1\n",
      "  (2, 68322)\t1\n",
      "  (2, 106966)\t1\n"
     ]
    }
   ],
   "source": [
    "#Displaying top 3 vectorized value of the training dataset\n",
    "print(train_features[:3])"
   ]
  },
  {
   "cell_type": "code",
   "execution_count": 14,
   "metadata": {},
   "outputs": [
    {
     "name": "stdout",
     "output_type": "stream",
     "text": [
      "Accuracy: 0.776173285198556\n"
     ]
    }
   ],
   "source": [
    "#Creating a ComplementNB variable for naive bayes from SKLearn library\n",
    "\n",
    "#UPDATE: Using Complement naive bayes instead of Multinomial naive bayes as multinomial NB makes some severe assumption\n",
    "#which is resolved in Complement NB and it is more reliable in accordance to our dataset\n",
    "\n",
    "nb = ComplementNB()\n",
    "\n",
    "#Traing the model using the training dataset \n",
    "nb.fit(train_features.todense(), [r for r in score_training])\n",
    "\n",
    "# Now we can use the model to predict classifications for testing dataset\n",
    "predictions = nb.predict(test_features.todense())\n",
    "\n",
    "#Print the accuracy of the model\n",
    "print(\"Accuracy:\",metrics.accuracy_score(score_testing, predictions))"
   ]
  },
  {
   "cell_type": "code",
   "execution_count": 17,
   "metadata": {},
   "outputs": [
    {
     "data": {
      "text/plain": [
       "<AxesSubplot:>"
      ]
     },
     "execution_count": 17,
     "metadata": {},
     "output_type": "execute_result"
    },
    {
     "data": {
      "image/png": "[encoded data removed]",
      "text/plain": [
       "<Figure size 432x288 with 2 Axes>"
      ]
     },
     "metadata": {
      "needs_background": "light"
     },
     "output_type": "display_data"
    }
   ],
   "source": [
    "#Creating a confusion matrix using the sklearn library\n",
    "\n",
    "confusionMatrix = confusion_matrix(score_testing, predictions)\n",
    "import seaborn as sns\n",
    "group_names = ['True Neg','False Pos','False Neg','True Pos']\n",
    "group_counts = [\"{0:0.0f}\".format(value) for value in\n",
    "                confusionMatrix.flatten()]\n",
    "group_percentages = [\"{0:.2%}\".format(value) for value in\n",
    "                     confusionMatrix.flatten()/np.sum(confusionMatrix)]\n",
    "labels = [f\"{v1}\\n{v2}\\n{v3}\" for v1, v2, v3 in\n",
    "          zip(group_names,group_counts,group_percentages)]\n",
    "labels = np.asarray(labels).reshape(2,2)\n",
    "sns.heatmap(confusionMatrix, annot=labels,fmt='', cmap='Blues')"
   ]
  },
  {
   "cell_type": "markdown",
   "metadata": {},
   "source": [
    "The reason that we are getting accuracy of task 1 greater than accuracy of task 2 is because of 2 main reason: \n",
    "\n",
    "1) The ngram model: Since I am using a bi-gram in task 2 which can give a more accurate prediction but it also requires an increased dataset and since I don't have that amount of dataset to train my model the accuracy of the model decreases by some amount.\n",
    "\n",
    "2) Lemmatization & Stemming: I am using lemmatization in task 2, Lemmatization look for the meaning of the word by using the words around it as contaxt and due to that it some times fail to generate the root word on the other hand stemming follows an algorithm without considering the context of the word. Lemmatization always return a actual word but stemming migth not return a actual word. And due to the few ignored root word in lemmatization the accuracy decreases by some amount."
   ]
  }
 ],
 "metadata": {
  "kernelspec": {
   "display_name": "Python 3",
   "language": "python",
   "name": "python3"
  },
  "language_info": {
   "codemirror_mode": {
    "name": "ipython",
    "version": 3
   },
   "file_extension": ".py",
   "mimetype": "text/x-python",
   "name": "python",
   "nbconvert_exporter": "python",
   "pygments_lexer": "ipython3",
   "version": "3.8.5"
  }
 },
 "nbformat": 4,
 "nbformat_minor": 4
}
